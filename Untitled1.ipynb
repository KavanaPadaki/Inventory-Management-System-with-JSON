{
 "cells": [
  {
   "cell_type": "code",
   "execution_count": 11,
   "id": "33d33b56",
   "metadata": {},
   "outputs": [],
   "source": [
    "record={1001:{\"Name\":\"5 Star\",         \"Price\":5,     \"Quantity\":300},\n",
    "        1002:{\"Name\":\"BarOne\",         \"Price\":5,     \"Quantity\":300},\n",
    "        1003:{\"Name\":\"Milky Bar\",      \"Price\":10,    \"Quantity\":200},\n",
    "        1004:{\"Name\":\"Chocolate cake\", \"Price\":300,   \"Quantity\":100},\n",
    "        1005:{\"Name\":\"Blueberry Cake\", \"Price\":500,   \"Quantity\":100}\n",
    "       }"
   ]
  },
  {
   "cell_type": "code",
   "execution_count": 12,
   "id": "a055b5e4",
   "metadata": {},
   "outputs": [
    {
     "data": {
      "text/plain": [
       "{'Name': '5 Star', 'Price': 5, 'Quantity': 300}"
      ]
     },
     "execution_count": 12,
     "metadata": {},
     "output_type": "execute_result"
    }
   ],
   "source": [
    "record[1001]"
   ]
  },
  {
   "cell_type": "code",
   "execution_count": 13,
   "id": "15cd40fe",
   "metadata": {},
   "outputs": [
    {
     "data": {
      "text/plain": [
       "{1001: {'Name': '5 Star', 'Price': 5, 'Quantity': 300},\n",
       " 1002: {'Name': 'BarOne', 'Price': 5, 'Quantity': 300},\n",
       " 1003: {'Name': 'Milky Bar', 'Price': 10, 'Quantity': 200},\n",
       " 1004: {'Name': 'Chocolate cake', 'Price': 300, 'Quantity': 100},\n",
       " 1005: {'Name': 'Blueberry Cake', 'Price': 500, 'Quantity': 100}}"
      ]
     },
     "execution_count": 13,
     "metadata": {},
     "output_type": "execute_result"
    }
   ],
   "source": [
    "record"
   ]
  },
  {
   "cell_type": "code",
   "execution_count": 16,
   "id": "cf0abd08",
   "metadata": {},
   "outputs": [
    {
     "name": "stdout",
     "output_type": "stream",
     "text": [
      "---------Contents-----------------\n",
      "1001 | 5 Star | 5 | 300\n",
      "1002 | BarOne | 5 | 300\n",
      "1003 | Milky Bar | 10 | 200\n",
      "1004 | Chocolate cake | 300 | 100\n",
      "1005 | Blueberry Cake | 500 | 100\n",
      "----------------------------------\n"
     ]
    }
   ],
   "source": [
    "print(\"---------Contents-----------------\")\n",
    "for key in record.keys():\n",
    "    print(key,\"|\",record[key]['Name'],\"|\",record[key]['Price'],\"|\",record[key]['Quantity'])\n",
    "print(\"----------------------------------\")"
   ]
  },
  {
   "cell_type": "code",
   "execution_count": 19,
   "id": "80bad99d",
   "metadata": {},
   "outputs": [
    {
     "name": "stdout",
     "output_type": "stream",
     "text": [
      "--------------------MENU---------------------\n",
      "1001 | 5 Star | 5 | 300\n",
      "1002 | BarOne | 5 | 300\n",
      "1003 | Milky Bar | 10 | 200\n",
      "1004 | Chocolate cake | 300 | 100\n",
      "1005 | Blueberry Cake | 500 | 100\n",
      "---------------------------------------------\n",
      "\n",
      "Enter product ID : 1004\n",
      "Enter Quantity   : 30\n",
      "---------------------------------------------\n",
      "\n",
      "Name      :  Chocolate cake\n",
      "Price (Rs):  300\n",
      "Quantity  :  30\n",
      "---------------------------------------------\n",
      "Billing   :  9000 Rs\n",
      "---------------------------------------------\n"
     ]
    }
   ],
   "source": [
    "print(\"--------------------Contents---------------------\")\n",
    "for key in record.keys():\n",
    "    \n",
    "    print(key,\"|\",record[key]['Name'],\"|\",record[key]['Price'],\"|\",record[key]['Quantity'])\n",
    "print(\"---------------------------------------------\")\n",
    "print('')\n",
    "\n",
    "ui_pr = int(input(\"Enter product ID : \"))\n",
    "ui_qn = int(input(\"Enter Quantity   : \"))\n",
    "\n",
    "print(\"---------------------------------------------\")\n",
    "print('')\n",
    "\n",
    "print(\"Name      : \", record[ui_pr][\"Name\"])\n",
    "print(\"Price (Rs): \", record[ui_pr][\"Price\"])\n",
    "print(\"Quantity  : \", ui_qn)\n",
    "print(\"---------------------------------------------\")\n",
    "print(\"Billing   : \", ui_qn * record[ui_pr][\"Price\"], \"Rs\")\n",
    "print(\"---------------------------------------------\")"
   ]
  },
  {
   "cell_type": "code",
   "execution_count": null,
   "id": "7fcfd7e9",
   "metadata": {},
   "outputs": [],
   "source": [
    "print(\"--------------------MENU---------------------\")\n",
    "for key in record.keys():\n",
    "    print(key,\"|\",record[key]['Name'],\"|\",record[key]['Price'],\"|\",record[key]['Quantity'])\n",
    "print(\"---------------------------------------------\")\n",
    "print('')\n",
    "\n",
    "ui_pr = int(input(\"Enter product ID : \"))\n",
    "ui_qn = int(input(\"Enter Quantity   : \"))\n",
    "\n",
    "print(\"---------------------------------------------\")\n",
    "print('')\n",
    "\n",
    "print(\"Name      : \", record[ui_pr][\"Name\"])\n",
    "print(\"Price (Rs): \", record[ui_pr][\"Price\"])\n",
    "print(\"Quantity  : \", ui_qn)\n",
    "print(\"---------------------------------------------\")\n",
    "print(\"Billing   : \", ui_qn * record[ui_pr][\"Price\"], \"Rs\")\n",
    "print(\"---------------------------------------------\")\n",
    "\n",
    "record[ui_pr]['Quantity'] = record[ui_pr]['Quantity'] - ui_qn\n",
    "\n",
    "print('')\n",
    "print(\"---------------------------------------------\")\n",
    "print(\"  Thanks for your order, Inventory Updated!  \")\n",
    "print(\"---------------------------------------------\")"
   ]
  },
  {
   "cell_type": "code",
   "execution_count": null,
   "id": "67896a45",
   "metadata": {},
   "outputs": [],
   "source": []
  },
  {
   "cell_type": "code",
   "execution_count": null,
   "id": "ea155110",
   "metadata": {},
   "outputs": [],
   "source": []
  },
  {
   "cell_type": "code",
   "execution_count": null,
   "id": "a8285b95",
   "metadata": {},
   "outputs": [],
   "source": []
  }
 ],
 "metadata": {
  "kernelspec": {
   "display_name": "Python 3 (ipykernel)",
   "language": "python",
   "name": "python3"
  },
  "language_info": {
   "codemirror_mode": {
    "name": "ipython",
    "version": 3
   },
   "file_extension": ".py",
   "mimetype": "text/x-python",
   "name": "python",
   "nbconvert_exporter": "python",
   "pygments_lexer": "ipython3",
   "version": "3.9.7"
  }
 },
 "nbformat": 4,
 "nbformat_minor": 5
}
